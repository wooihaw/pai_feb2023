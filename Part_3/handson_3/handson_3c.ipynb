{
 "cells": [
  {
   "cell_type": "markdown",
   "id": "9acdec19",
   "metadata": {},
   "source": [
    "## Hands-on 3C \n",
    "#### Build 3 classification models for breast cancer detection using Scikit-learn built-in dataset"
   ]
  },
  {
   "cell_type": "code",
   "execution_count": 1,
   "id": "6481264f",
   "metadata": {},
   "outputs": [],
   "source": [
    "# Initialization\n",
    "%matplotlib inline\n",
    "from warnings import filterwarnings\n",
    "filterwarnings('ignore')"
   ]
  },
  {
   "cell_type": "code",
   "execution_count": 2,
   "id": "1ae13063",
   "metadata": {},
   "outputs": [],
   "source": [
    "from sklearn.datasets import load_breast_cancer\n",
    "from sklearn.model_selection import train_test_split as split, KFold, cross_val_score\n",
    "from sklearn.linear_model import LogisticRegression\n",
    "from sklearn.tree import DecisionTreeClassifier\n",
    "from sklearn.neighbors import KNeighborsClassifier\n",
    "from sklearn.feature_selection import SelectKBest\n",
    "from sklearn.decomposition import PCA\n",
    "\n",
    "cancer = load_breast_cancer()\n",
    "feature_names = cancer.feature_names\n",
    "target_names = cancer.target_names\n",
    "X = cancer.data\n",
    "y = cancer.target"
   ]
  },
  {
   "cell_type": "markdown",
   "id": "f1ac88e3",
   "metadata": {},
   "source": [
    "To do: \n",
    "- Check the number of features in the dataset"
   ]
  },
  {
   "cell_type": "code",
   "execution_count": 4,
   "id": "a3f0b6ab",
   "metadata": {},
   "outputs": [
    {
     "name": "stdout",
     "output_type": "stream",
     "text": [
      "Number of data samples: 569\n",
      "Number of features: 30\n"
     ]
    }
   ],
   "source": [
    "print(f\"Number of data samples: {X.shape[0]}\")\n",
    "print(f\"Number of features: {X.shape[1]}\")"
   ]
  },
  {
   "cell_type": "markdown",
   "id": "a354ee9c",
   "metadata": {},
   "source": [
    "To do: \n",
    "- Evaluate the performance of k-Nearest Neighbors, Logistic Regression and Decision Tree on this dataset using 5-fold cross validation."
   ]
  },
  {
   "cell_type": "code",
   "execution_count": 7,
   "id": "89c13b59",
   "metadata": {},
   "outputs": [
    {
     "name": "stdout",
     "output_type": "stream",
     "text": [
      "Model: knn, mean accuracy: 92.966%, std accuracy: 1.959%\n",
      "Model: lgr, mean accuracy: 93.315%, std accuracy: 2.886%\n",
      "Model: dtc, mean accuracy: 92.796%, std accuracy: 0.884%\n"
     ]
    }
   ],
   "source": [
    "models = {}\n",
    "models['knn'] = KNeighborsClassifier()\n",
    "models['lgr'] = LogisticRegression()\n",
    "models['dtc'] = DecisionTreeClassifier()\n",
    "\n",
    "kf = KFold(n_splits=3, shuffle=True, random_state=42)\n",
    "for m in models:\n",
    "    scores = cross_val_score(models[m], X, y, cv=kf, n_jobs=-1)\n",
    "    print(f\"Model: {m}, mean accuracy: {scores.mean():.3%}, std accuracy: {scores.std():.3%}\")"
   ]
  },
  {
   "cell_type": "markdown",
   "id": "6b870137",
   "metadata": {},
   "source": [
    "To do: \n",
    "- Use Univariate Selection to select 10 best features. Evaluate the performance of k-Nearest Neighbors, Logistic Regression and Decision Tree on these features using 5-fold cross validation."
   ]
  },
  {
   "cell_type": "code",
   "execution_count": 8,
   "id": "dd8607c8",
   "metadata": {},
   "outputs": [
    {
     "name": "stdout",
     "output_type": "stream",
     "text": [
      "(569, 10)\n",
      "Model: knn, mean accuracy: 92.614%, std accuracy: 2.170%\n",
      "Model: lgr, mean accuracy: 94.195%, std accuracy: 2.414%\n",
      "Model: dtc, mean accuracy: 92.443%, std accuracy: 0.239%\n"
     ]
    }
   ],
   "source": [
    "selector = SelectKBest(k=10)\n",
    "Xs = selector.fit_transform(X, y)\n",
    "print(Xs.shape)\n",
    "\n",
    "for m in models:\n",
    "    scores = cross_val_score(models[m], Xs, y, cv=kf, n_jobs=-1)\n",
    "    print(f\"Model: {m}, mean accuracy: {scores.mean():.3%}, std accuracy: {scores.std():.3%}\")"
   ]
  },
  {
   "cell_type": "markdown",
   "id": "29c9798a",
   "metadata": {},
   "source": [
    "To do: \n",
    "- Use Principle Component Analysis (PCA) to reduce the dimensionality of the original features to 10. Evaluate the performance of k-Nearest Neighbors, Logistic Regression and Decision Tree on these features using 5-fold cross validation."
   ]
  },
  {
   "cell_type": "code",
   "execution_count": 9,
   "id": "8585e37c",
   "metadata": {},
   "outputs": [
    {
     "name": "stdout",
     "output_type": "stream",
     "text": [
      "(569, 10)\n",
      "Model: knn, mean accuracy: 92.966%, std accuracy: 1.959%\n",
      "Model: lgr, mean accuracy: 94.899%, std accuracy: 1.754%\n",
      "Model: dtc, mean accuracy: 91.915%, std accuracy: 0.507%\n"
     ]
    }
   ],
   "source": [
    "pca = PCA(n_components=10)\n",
    "Xr = pca.fit_transform(X)\n",
    "print(Xr.shape)\n",
    "\n",
    "for m in models:\n",
    "    scores = cross_val_score(models[m], Xr, y, cv=kf, n_jobs=-1)\n",
    "    print(f\"Model: {m}, mean accuracy: {scores.mean():.3%}, std accuracy: {scores.std():.3%}\")"
   ]
  }
 ],
 "metadata": {
  "kernelspec": {
   "display_name": "Python 3 (ipykernel)",
   "language": "python",
   "name": "python3"
  },
  "language_info": {
   "codemirror_mode": {
    "name": "ipython",
    "version": 3
   },
   "file_extension": ".py",
   "mimetype": "text/x-python",
   "name": "python",
   "nbconvert_exporter": "python",
   "pygments_lexer": "ipython3",
   "version": "3.9.13"
  }
 },
 "nbformat": 4,
 "nbformat_minor": 5
}
